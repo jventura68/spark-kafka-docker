{
 "cells": [
  {
   "cell_type": "code",
   "execution_count": 1,
   "metadata": {},
   "outputs": [],
   "source": [
    "import os\n",
    "import findspark\n",
    "findspark.init(os.environ['SPARK_HOME'])"
   ]
  },
  {
   "cell_type": "code",
   "execution_count": 2,
   "metadata": {},
   "outputs": [],
   "source": [
    "import time\n",
    "from pyspark import SparkContext\n",
    "from pyspark.streaming import StreamingContext"
   ]
  },
  {
   "cell_type": "code",
   "execution_count": 3,
   "metadata": {},
   "outputs": [],
   "source": [
    "def nprint (dstream, text, num=10):\n",
    "    \n",
    "    def takeAndPrint (time, rdd):\n",
    "        taken = rdd.take (num + 1)\n",
    "        print (\"----------------------------------------------\")\n",
    "        print (f'({time}) {text}')\n",
    "        print (\"----------------------------------------------\")\n",
    "\n",
    "        for record in taken[:num]:\n",
    "            print (record)\n",
    "        if len(taken) > num:\n",
    "            print ('...')\n",
    "        print ('')\n",
    "        \n",
    "    dstream.foreachRDD (takeAndPrint)"
   ]
  },
  {
   "cell_type": "code",
   "execution_count": 4,
   "metadata": {},
   "outputs": [
    {
     "name": "stderr",
     "output_type": "stream",
     "text": [
      "WARNING: An illegal reflective access operation has occurred\n",
      "WARNING: Illegal reflective access by org.apache.spark.unsafe.Platform (file:/usr/local/spark-3.2.0-bin-hadoop3.2/jars/spark-unsafe_2.12-3.2.0.jar) to constructor java.nio.DirectByteBuffer(long,int)\n",
      "WARNING: Please consider reporting this to the maintainers of org.apache.spark.unsafe.Platform\n",
      "WARNING: Use --illegal-access=warn to enable warnings of further illegal reflective access operations\n",
      "WARNING: All illegal access operations will be denied in a future release\n",
      "Ivy Default Cache set to: /home/jovyan/.ivy2/cache\n",
      "The jars for the packages stored in: /home/jovyan/.ivy2/jars\n",
      "org.apache.spark#spark-sql-kafka-0-10_2.12 added as a dependency\n",
      ":: resolving dependencies :: org.apache.spark#spark-submit-parent-62bd741f-4e63-4b1f-890b-ccf43a6f8c6a;1.0\n",
      "\tconfs: [default]\n"
     ]
    },
    {
     "name": "stdout",
     "output_type": "stream",
     "text": [
      ":: loading settings :: url = jar:file:/usr/local/spark-3.2.0-bin-hadoop3.2/jars/ivy-2.5.0.jar!/org/apache/ivy/core/settings/ivysettings.xml\n"
     ]
    },
    {
     "name": "stderr",
     "output_type": "stream",
     "text": [
      "\tfound org.apache.spark#spark-sql-kafka-0-10_2.12;3.2.0 in central\n",
      "\tfound org.apache.spark#spark-token-provider-kafka-0-10_2.12;3.2.0 in central\n",
      "\tfound org.apache.kafka#kafka-clients;2.8.0 in central\n",
      "\tfound org.lz4#lz4-java;1.7.1 in central\n",
      "\tfound org.xerial.snappy#snappy-java;1.1.8.4 in central\n",
      "\tfound org.slf4j#slf4j-api;1.7.30 in central\n",
      "\tfound org.apache.hadoop#hadoop-client-runtime;3.3.1 in central\n",
      "\tfound org.spark-project.spark#unused;1.0.0 in central\n",
      "\tfound org.apache.hadoop#hadoop-client-api;3.3.1 in central\n",
      "\tfound org.apache.htrace#htrace-core4;4.1.0-incubating in central\n",
      "\tfound commons-logging#commons-logging;1.1.3 in central\n",
      "\tfound com.google.code.findbugs#jsr305;3.0.0 in central\n",
      "\tfound org.apache.commons#commons-pool2;2.6.2 in central\n",
      ":: resolution report :: resolve 361ms :: artifacts dl 10ms\n",
      "\t:: modules in use:\n",
      "\tcom.google.code.findbugs#jsr305;3.0.0 from central in [default]\n",
      "\tcommons-logging#commons-logging;1.1.3 from central in [default]\n",
      "\torg.apache.commons#commons-pool2;2.6.2 from central in [default]\n",
      "\torg.apache.hadoop#hadoop-client-api;3.3.1 from central in [default]\n",
      "\torg.apache.hadoop#hadoop-client-runtime;3.3.1 from central in [default]\n",
      "\torg.apache.htrace#htrace-core4;4.1.0-incubating from central in [default]\n",
      "\torg.apache.kafka#kafka-clients;2.8.0 from central in [default]\n",
      "\torg.apache.spark#spark-sql-kafka-0-10_2.12;3.2.0 from central in [default]\n",
      "\torg.apache.spark#spark-token-provider-kafka-0-10_2.12;3.2.0 from central in [default]\n",
      "\torg.lz4#lz4-java;1.7.1 from central in [default]\n",
      "\torg.slf4j#slf4j-api;1.7.30 from central in [default]\n",
      "\torg.spark-project.spark#unused;1.0.0 from central in [default]\n",
      "\torg.xerial.snappy#snappy-java;1.1.8.4 from central in [default]\n",
      "\t---------------------------------------------------------------------\n",
      "\t|                  |            modules            ||   artifacts   |\n",
      "\t|       conf       | number| search|dwnlded|evicted|| number|dwnlded|\n",
      "\t---------------------------------------------------------------------\n",
      "\t|      default     |   13  |   0   |   0   |   0   ||   13  |   0   |\n",
      "\t---------------------------------------------------------------------\n",
      ":: retrieving :: org.apache.spark#spark-submit-parent-62bd741f-4e63-4b1f-890b-ccf43a6f8c6a\n",
      "\tconfs: [default]\n",
      "\t0 artifacts copied, 13 already retrieved (0kB/6ms)\n",
      "Setting default log level to \"WARN\".\n",
      "To adjust logging level use sc.setLogLevel(newLevel). For SparkR, use setLogLevel(newLevel).\n",
      "                                                                                \r"
     ]
    },
    {
     "name": "stdout",
     "output_type": "stream",
     "text": [
      "----------------------------------------------\n",
      "(2021-12-09 12:21:20) Total\n",
      "----------------------------------------------\n",
      "('como1', 1)\n",
      "('hola1', 1)\n",
      "('hola', 1)\n",
      "('como2', 1)\n",
      "\n",
      "----------------------------------------------\n",
      "(2021-12-09 12:21:21) Total\n",
      "----------------------------------------------\n",
      "('como1', 2)\n",
      "('hola1', 2)\n",
      "('hola', 2)\n",
      "('como2', 2)\n",
      "\n",
      "----------------------------------------------\n",
      "(2021-12-09 12:21:22) Total\n",
      "----------------------------------------------\n",
      "('como1', 2)\n",
      "('Ventana', 1)\n",
      "('hola1', 2)\n",
      "('hola', 2)\n",
      "('como2', 2)\n",
      "('Tercera', 1)\n",
      "\n",
      "----------------------------------------------\n",
      "(2021-12-09 12:21:23) Total\n",
      "----------------------------------------------\n",
      "('como1', 2)\n",
      "('Ventana', 1)\n",
      "('hola1', 2)\n",
      "('hola', 2)\n",
      "('como2', 2)\n",
      "('Tercera', 1)\n",
      "\n"
     ]
    }
   ],
   "source": [
    "sc = SparkContext(appName=\"PythonStreamingQueueStream\").getOrCreate()\n",
    "ssc = StreamingContext(sc, 1)\n",
    "ssc.checkpoint('/tmp')\n",
    "\n",
    "rddQueue = [\n",
    "    ['hola1 como1','hola como2' ],\n",
    "    ['hola1 como1','hola como2' ],\n",
    "    ['Tercera Ventana']]\n",
    "\n",
    "lines = ssc.queueStream(rddQueue)\n",
    "words = lines.flatMap(lambda line: line.split(\" \"))\n",
    "weights = words.map(lambda word: (word, 1))\n",
    "counts = weights.reduceByKey(lambda x, y: x + y)\n",
    "def total_general(vals, ctx):\n",
    "    if ctx is None:\n",
    "        ctx = 0\n",
    "    return (sum(vals,ctx))\n",
    "total = counts.updateStateByKey(total_general)\n",
    "nprint(total, \"Total\")\n",
    "# Lanza el sistema de procesado streaming\n",
    "\n",
    "ssc.start()\n",
    "\n",
    "time.sleep(2)   #Depende de intervalo y tam. rddQueue\n",
    "ssc.stop(stopSparkContext=True, stopGraceFully=True)"
   ]
  },
  {
   "cell_type": "code",
   "execution_count": 5,
   "metadata": {},
   "outputs": [],
   "source": [
    "ssc.stop(stopSparkContext=True, stopGraceFully=True)"
   ]
  },
  {
   "cell_type": "markdown",
   "metadata": {},
   "source": [
    "### References\n",
    "1. https://spark.apache.org/docs/latest/streaming-programming-guide.html#basic-sources\n",
    "2. https://spark.apache.org/docs/latest/streaming-programming-guide.html#discretized-streams-dstreams\n",
    "3. https://spark.apache.org/docs/latest/api/python/pyspark.streaming.html#pyspark.streaming.StreamingContext"
   ]
  },
  {
   "cell_type": "markdown",
   "metadata": {},
   "source": [
    " "
   ]
  }
 ],
 "metadata": {
  "kernelspec": {
   "display_name": "Python 3 (ipykernel)",
   "language": "python",
   "name": "python3"
  },
  "language_info": {
   "codemirror_mode": {
    "name": "ipython",
    "version": 3
   },
   "file_extension": ".py",
   "mimetype": "text/x-python",
   "name": "python",
   "nbconvert_exporter": "python",
   "pygments_lexer": "ipython3",
   "version": "3.9.7"
  }
 },
 "nbformat": 4,
 "nbformat_minor": 4
}
