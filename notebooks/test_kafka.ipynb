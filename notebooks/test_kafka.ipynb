{
 "cells": [
  {
   "cell_type": "code",
   "execution_count": 1,
   "id": "59c945ea-332b-4de4-874e-da2854105c21",
   "metadata": {},
   "outputs": [
    {
     "name": "stdout",
     "output_type": "stream",
     "text": [
      "Collecting package metadata (current_repodata.json): done\n",
      "Solving environment: done\n",
      "\n",
      "\n",
      "==> WARNING: A newer version of conda exists. <==\n",
      "  current version: 4.10.3\n",
      "  latest version: 4.11.0\n",
      "\n",
      "Please update conda by running\n",
      "\n",
      "    $ conda update -n base conda\n",
      "\n",
      "\n",
      "\n",
      "## Package Plan ##\n",
      "\n",
      "  environment location: /opt/conda\n",
      "\n",
      "  added / updated specs:\n",
      "    - kafka-python\n",
      "\n",
      "\n",
      "The following packages will be downloaded:\n",
      "\n",
      "    package                    |            build\n",
      "    ---------------------------|-----------------\n",
      "    kafka-python-2.0.2         |     pyh9f0ad1d_0         163 KB  conda-forge\n",
      "    ------------------------------------------------------------\n",
      "                                           Total:         163 KB\n",
      "\n",
      "The following NEW packages will be INSTALLED:\n",
      "\n",
      "  kafka-python       conda-forge/noarch::kafka-python-2.0.2-pyh9f0ad1d_0\n",
      "\n",
      "\n",
      "\n",
      "Downloading and Extracting Packages\n",
      "kafka-python-2.0.2   | 163 KB    | ##################################### | 100% \n",
      "Preparing transaction: done\n",
      "Verifying transaction: done\n",
      "Executing transaction: done\n"
     ]
    }
   ],
   "source": [
    "!conda install -y kafka-python"
   ]
  },
  {
   "cell_type": "code",
   "execution_count": 3,
   "id": "d9eced8a-e44a-44d8-8e9c-6e54ded380bb",
   "metadata": {},
   "outputs": [],
   "source": [
    "import os\n",
    "from datetime import datetime\n",
    "import time\n",
    "import threading\n",
    "import json\n",
    "from kafka import KafkaProducer\n",
    "from kafka.errors import KafkaError\n",
    "import pandas as pd\n",
    "import random"
   ]
  },
  {
   "cell_type": "code",
   "execution_count": 10,
   "id": "8fc3de36-31e8-45ae-9a2f-069f5f91c1f7",
   "metadata": {},
   "outputs": [],
   "source": [
    "def error_callback(exc):\n",
    "    raise Exception('Error while sendig data to kafka: {0}'.format(str(exc)))\n",
    "\n",
    "def write_to_kafka(topic_name, items):\n",
    "  count=0\n",
    "  producer = KafkaProducer(bootstrap_servers=['kafka:9093'])\n",
    "  for message, key in items:\n",
    "    producer.send(topic_name, key=key.encode('utf-8'), value=message.encode('utf-8')).add_errback(error_callback)\n",
    "    count += 1\n",
    "  producer.flush()\n",
    "  print(\"Wrote {0} messages into topic: {1}\".format(count, topic_name))"
   ]
  },
  {
   "cell_type": "code",
   "execution_count": 13,
   "id": "360ec326-69fa-4016-816b-4329b2c041b4",
   "metadata": {},
   "outputs": [
    {
     "name": "stdout",
     "output_type": "stream",
     "text": [
      "(('f1', '0'), ('f4', '1'), ('f2', '2'), ('f3', '3'), ('f2', '4'), ('f2', '5'), ('f3', '6'), ('f4', '7'), ('f2', '8'), ('f4', '9'))\n"
     ]
    }
   ],
   "source": [
    "def aleatorio():\n",
    "    return random.choice(['f1','f2','f3',\"f4\"])\n",
    "\n",
    "send_data = tuple((aleatorio(),str(x)) for x in range(10))\n",
    "print(send_data)"
   ]
  },
  {
   "cell_type": "code",
   "execution_count": 23,
   "id": "ea20fc08-cdd0-4851-9c33-0f6b87530294",
   "metadata": {},
   "outputs": [
    {
     "name": "stdout",
     "output_type": "stream",
     "text": [
      "Wrote 10 messages into topic: test\n"
     ]
    }
   ],
   "source": [
    "write_to_kafka(\"test\",send_data)"
   ]
  },
  {
   "cell_type": "code",
   "execution_count": null,
   "id": "c27954ec-8843-4412-8a47-cb04aafe359a",
   "metadata": {},
   "outputs": [],
   "source": []
  }
 ],
 "metadata": {
  "kernelspec": {
   "display_name": "Python 3 (ipykernel)",
   "language": "python",
   "name": "python3"
  },
  "language_info": {
   "codemirror_mode": {
    "name": "ipython",
    "version": 3
   },
   "file_extension": ".py",
   "mimetype": "text/x-python",
   "name": "python",
   "nbconvert_exporter": "python",
   "pygments_lexer": "ipython3",
   "version": "3.9.7"
  }
 },
 "nbformat": 4,
 "nbformat_minor": 5
}
